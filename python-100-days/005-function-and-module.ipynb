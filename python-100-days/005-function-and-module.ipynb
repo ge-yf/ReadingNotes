{
 "cells": [
  {
   "cell_type": "markdown",
   "metadata": {},
   "source": [
    "# 函数和模块\n",
    "\n",
    "## 定义函数\n",
    "\n",
    "Python使用`def`关键字来定义函数，和变量一样每个函数也有一个名字，而且命名规则跟变量的命名规则是一致的。在函数名后面的圆括号中可以放置传递给函数的参数，这一点和数学上的函数非常相似，程序中函数的参数就相当于是数学上说的函数的自变量，而函数执行完成后我们可以通过`return`关键字来返回一个值，这相当于数学上说的函数的因变量。"
   ]
  },
  {
   "cell_type": "code",
   "execution_count": null,
   "metadata": {},
   "outputs": [],
   "source": [
    "\"\"\"\n",
    "求阶乘\n",
    "\n",
    "说明： \n",
    "Python的math模块中其实已经有一个factorial函数了，\n",
    "事实上要计算阶乘可以直接使用这个现成的函数而不用自己定义。\n",
    "\n",
    "下面例子中的一些函数在Python中也都是现成的，\n",
    "我们这里是为了讲解函数的定义和使用才把它们又实现了一遍，\n",
    "实际开发中不建议做这种低级的重复性的工作。\n",
    "\"\"\"\n",
    "\n",
    "def factorial(num):\n",
    "    result = 1\n",
    "    for n in range(1, num+1):\n",
    "        result *= n\n",
    "    return result\n",
    "\n",
    "m = int(input('m = '))\n",
    "print(factorial(m))"
   ]
  },
  {
   "cell_type": "markdown",
   "metadata": {},
   "source": [
    "## 函数的参数\n",
    "\n",
    "函数是绝大多数编程语言中都支持的一个代码的\"构建块\"，但是Python中的函数与其他语言中的函数还是有很多不太相同的地方，其中一个显著的区别就是Python对函数参数的处理。在Python中，**函数的参数可以有默认值，也支持使用可变参数**，所以Python并不需要像其他语言一样支持函数的重载，因为我们在定义一个函数的时候可以让它有多种不同的使用方式，下面是两个小例子。"
   ]
  },
  {
   "cell_type": "code",
   "execution_count": 48,
   "metadata": {},
   "outputs": [
    {
     "name": "stdout",
     "output_type": "stream",
     "text": [
      "4\n",
      "1\n",
      "3\n",
      "6\n",
      "6\n"
     ]
    }
   ],
   "source": [
    "from random import randint\n",
    "\n",
    "def roll_dice(n =2):\n",
    "    total = 0\n",
    "    for _ in range(n):\n",
    "        total += randint(1, 6)\n",
    "    return total\n",
    "\n",
    "def add(a = 0, b = 0, c = 0):\n",
    "    return a + b + c\n",
    "\n",
    "print(roll_dice())   # 如果不指定参数，默认摇2个骰子\n",
    "print(roll_dice(1))  # 摇1个骰子\n",
    "print(add(1, 2))     # 1+2\n",
    "print(add(1, 2, 3))  # 1+2+3\n",
    "print(add(c = 1, a = 2, b = 3)) # 传递参数时，可以不按照设定的顺序"
   ]
  },
  {
   "cell_type": "code",
   "execution_count": 49,
   "metadata": {},
   "outputs": [
    {
     "name": "stdout",
     "output_type": "stream",
     "text": [
      "3\n",
      "6\n",
      "10\n",
      "15\n"
     ]
    }
   ],
   "source": [
    "\"\"\"\n",
    "可变参数\n",
    "\"\"\"\n",
    "\n",
    "def add(*args):\n",
    "    total = 0\n",
    "    for val in args:\n",
    "        total += val\n",
    "    return total\n",
    "\n",
    "#调用add时，可以传入任意数量的参数\n",
    "print(add(1, 2))\n",
    "print(add(1, 2, 3))\n",
    "print(add(1, 2, 3, 4))\n",
    "print(add(1, 2, 3, 4, 5))"
   ]
  },
  {
   "cell_type": "markdown",
   "metadata": {},
   "source": [
    "## 用模块管理函数\n",
    "\n",
    "为了解决命名冲突，python引入了模块的概念。\n",
    "\n",
    "Python中每个文件就代表了一个模块（module），在不同的模块中可以有同名的函数，在使用函数的时候我们通过`import`关键字导入指定的模块就可以区分到底要使用的是哪个模块中的函数。\n",
    "\n",
    "`module1.py`\n",
    "```python\n",
    "def foo():\n",
    "    print('hello, world!')\n",
    "```\n",
    "\n",
    "`module2.py`\n",
    "```python\n",
    "def foo():\n",
    "    print('goodbye, world!')\n",
    "```\n",
    "\n",
    "`test.py`\n",
    "```python\n",
    "from module1 import foo\n",
    "\n",
    "# 输出hello, world!\n",
    "foo()\n",
    "\n",
    "from module2 import foo\n",
    "\n",
    "# 输出goodbye, world!\n",
    "foo()\n",
    "```\n",
    "\n",
    "也可以按照如下所示的方式来区分到底要使用哪一个`foo`函数。\n",
    "\n",
    "`test.py`\n",
    "```python\n",
    "import module1 as m1\n",
    "import module2 as m2\n",
    "\n",
    "m1.foo()\n",
    "m2.foo()\n",
    "```\n",
    "\n",
    "如果将代码写成了下面的样子，那么程序中调用的是最后导入的那个`foo`，因为后导入的`foo`覆盖了之前导入的`foo`。\n",
    "\n",
    "`test.py`\n",
    "```python\n",
    "from module1 import foo\n",
    "from module2 import foo\n",
    "\n",
    "# 输出goodbye, world!\n",
    "foo()\n",
    "```\n",
    "\n",
    "`test.py`\n",
    "```python\n",
    "from module2 import foo\n",
    "from module1 import foo\n",
    "\n",
    "# 输出hello, world!\n",
    "foo()\n",
    "```"
   ]
  }
 ],
 "metadata": {
  "kernelspec": {
   "display_name": "Python 3",
   "language": "python",
   "name": "python3"
  },
  "language_info": {
   "codemirror_mode": {
    "name": "ipython",
    "version": 3
   },
   "file_extension": ".py",
   "mimetype": "text/x-python",
   "name": "python",
   "nbconvert_exporter": "python",
   "pygments_lexer": "ipython3",
   "version": "3.7.4"
  }
 },
 "nbformat": 4,
 "nbformat_minor": 4
}
